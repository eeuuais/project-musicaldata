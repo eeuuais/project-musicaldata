{
  "nbformat": 4,
  "nbformat_minor": 0,
  "metadata": {
    "colab": {
      "provenance": [],
      "authorship_tag": "ABX9TyOgZ05Sar2U5iUurJil14bG",
      "include_colab_link": true
    },
    "kernelspec": {
      "name": "python3",
      "display_name": "Python 3"
    },
    "language_info": {
      "name": "python"
    }
  },
  "cells": [
    {
      "cell_type": "markdown",
      "metadata": {
        "id": "view-in-github",
        "colab_type": "text"
      },
      "source": [
        "<a href=\"https://colab.research.google.com/github/eeuuais/project-musicaldata/blob/main/musical_scraping.ipynb\" target=\"_parent\"><img src=\"https://colab.research.google.com/assets/colab-badge.svg\" alt=\"Open In Colab\"/></a>"
      ]
    },
    {
      "cell_type": "code",
      "source": [
        "# 한글 설치, 실행 후 런타임 재시작\n",
        "!sudo apt --fix-broken install\n",
        "!sudo apt-get install -y fonts-nanum\n",
        "!sudo fc-cache -fv\n",
        "\n",
        "!rm ~/.cache/matplotlib -rf"
      ],
      "metadata": {
        "colab": {
          "base_uri": "https://localhost:8080/"
        },
        "id": "ndNL7GeZfP9p",
        "outputId": "67c49ecf-f90d-4594-86ce-b4cde4f514d8"
      },
      "execution_count": null,
      "outputs": [
        {
          "output_type": "stream",
          "name": "stdout",
          "text": [
            "Reading package lists... Done\n",
            "Building dependency tree... Done\n",
            "Reading state information... Done\n",
            "The following packages were automatically installed and are no longer required:\n",
            "  apparmor libfuse3-3 liblzo2-2 snapd squashfs-tools systemd-hwe-hwdb udev\n",
            "Use 'sudo apt autoremove' to remove them.\n",
            "0 upgraded, 0 newly installed, 0 to remove and 50 not upgraded.\n",
            "Reading package lists... Done\n",
            "Building dependency tree... Done\n",
            "Reading state information... Done\n",
            "The following packages were automatically installed and are no longer required:\n",
            "  apparmor libfuse3-3 liblzo2-2 snapd squashfs-tools systemd-hwe-hwdb udev\n",
            "Use 'sudo apt autoremove' to remove them.\n",
            "The following NEW packages will be installed:\n",
            "  fonts-nanum\n",
            "0 upgraded, 1 newly installed, 0 to remove and 50 not upgraded.\n",
            "Need to get 10.3 MB of archives.\n",
            "After this operation, 34.1 MB of additional disk space will be used.\n",
            "Get:1 http://archive.ubuntu.com/ubuntu jammy/universe amd64 fonts-nanum all 20200506-1 [10.3 MB]\n",
            "Fetched 10.3 MB in 0s (28.0 MB/s)\n",
            "debconf: unable to initialize frontend: Dialog\n",
            "debconf: (No usable dialog-like program is installed, so the dialog based frontend cannot be used. at /usr/share/perl5/Debconf/FrontEnd/Dialog.pm line 78, <> line 1.)\n",
            "debconf: falling back to frontend: Readline\n",
            "debconf: unable to initialize frontend: Readline\n",
            "debconf: (This frontend requires a controlling tty.)\n",
            "debconf: falling back to frontend: Teletype\n",
            "dpkg-preconfigure: unable to re-open stdin: \n",
            "Selecting previously unselected package fonts-nanum.\n",
            "(Reading database ... 124234 files and directories currently installed.)\n",
            "Preparing to unpack .../fonts-nanum_20200506-1_all.deb ...\n",
            "Unpacking fonts-nanum (20200506-1) ...\n",
            "Setting up fonts-nanum (20200506-1) ...\n",
            "Processing triggers for fontconfig (2.13.1-4.2ubuntu5) ...\n",
            "/usr/share/fonts: caching, new cache contents: 0 fonts, 1 dirs\n",
            "/usr/share/fonts/truetype: caching, new cache contents: 0 fonts, 3 dirs\n",
            "/usr/share/fonts/truetype/humor-sans: caching, new cache contents: 1 fonts, 0 dirs\n",
            "/usr/share/fonts/truetype/liberation: caching, new cache contents: 16 fonts, 0 dirs\n",
            "/usr/share/fonts/truetype/nanum: caching, new cache contents: 12 fonts, 0 dirs\n",
            "/usr/local/share/fonts: caching, new cache contents: 0 fonts, 0 dirs\n",
            "/root/.local/share/fonts: skipping, no such directory\n",
            "/root/.fonts: skipping, no such directory\n",
            "/usr/share/fonts/truetype: skipping, looped directory detected\n",
            "/usr/share/fonts/truetype/humor-sans: skipping, looped directory detected\n",
            "/usr/share/fonts/truetype/liberation: skipping, looped directory detected\n",
            "/usr/share/fonts/truetype/nanum: skipping, looped directory detected\n",
            "/var/cache/fontconfig: cleaning cache directory\n",
            "/root/.cache/fontconfig: not cleaning non-existent cache directory\n",
            "/root/.fontconfig: not cleaning non-existent cache directory\n",
            "fc-cache: succeeded\n"
          ]
        }
      ]
    },
    {
      "cell_type": "code",
      "source": [
        "%%shell\n",
        "sudo apt -y update\n",
        "sudo apt install -y wget curl unzip\n",
        "\n",
        "# Install libu2f-udev\n",
        "wget http://archive.ubuntu.com/ubuntu/pool/main/libu/libu2f-host/libu2f-udev_1.1.4-1_all.deb\n",
        "sudo dpkg -i libu2f-udev_1.1.4-1_all.deb\n",
        "\n",
        "# Install Google Chrome\n",
        "wget https://dl.google.com/linux/direct/google-chrome-stable_current_amd64.deb\n",
        "sudo apt install ./google-chrome-stable_current_amd64.deb\n",
        "\n",
        "# Install ChromeDriver\n",
        "CHROME_DRIVER_VERSION='116.0.5845.96' # Use straight quotes here\n",
        "wget -N https://chromedriver.storage.googleapis.com/$CHROME_DRIVER_VERSION/chromedriver_linux64.zip -P /tmp/\n",
        "unzip -o /tmp/chromedriver_linux64.zip -d /tmp/\n",
        "chmod +x /tmp/chromedriver\n",
        "sudo mv /tmp/chromedriver /usr/local/bin/chromedriver\n",
        "\n",
        "# Install Selenium\n",
        "pip install selenium"
      ],
      "metadata": {
        "colab": {
          "base_uri": "https://localhost:8080/"
        },
        "id": "CugYNHtReAmv",
        "outputId": "a0c3d948-77c9-4dcd-f4e4-71ad31e5eac8"
      },
      "execution_count": null,
      "outputs": [
        {
          "output_type": "stream",
          "name": "stdout",
          "text": [
            "\u001b[33m\r0% [Working]\u001b[0m\r            \rHit:1 http://security.ubuntu.com/ubuntu jammy-security InRelease\n",
            "\u001b[33m\r0% [Waiting for headers] [Connected to cloud.r-project.org (108.139.15.18)] [Co\u001b[0m\r                                                                               \rHit:2 http://archive.ubuntu.com/ubuntu jammy InRelease\n",
            "\r                                                                               \rHit:3 http://archive.ubuntu.com/ubuntu jammy-updates InRelease\n",
            "\r                                                                               \rGet:4 https://dl.google.com/linux/chrome/deb stable InRelease [1,825 B]\n",
            "\u001b[33m\r0% [Waiting for headers] [Connected to cloud.r-project.org (108.139.15.18)] [Co\u001b[0m\r                                                                               \rHit:5 http://archive.ubuntu.com/ubuntu jammy-backports InRelease\n",
            "\u001b[33m\r0% [Waiting for headers] [Connected to r2u.stat.illinois.edu (192.17.190.167)] \u001b[0m\r                                                                               \rHit:6 https://cloud.r-project.org/bin/linux/ubuntu jammy-cran40/ InRelease\n",
            "Hit:7 https://developer.download.nvidia.com/compute/cuda/repos/ubuntu2204/x86_64  InRelease\n",
            "Hit:8 https://r2u.stat.illinois.edu/ubuntu jammy InRelease\n",
            "Hit:9 https://ppa.launchpadcontent.net/deadsnakes/ppa/ubuntu jammy InRelease\n",
            "Hit:10 https://ppa.launchpadcontent.net/graphics-drivers/ppa/ubuntu jammy InRelease\n",
            "Get:11 https://dl.google.com/linux/chrome/deb stable/main amd64 Packages [1,222 B]\n",
            "Hit:12 https://ppa.launchpadcontent.net/ubuntugis/ppa/ubuntu jammy InRelease\n",
            "Fetched 3,047 B in 2s (1,950 B/s)\n",
            "Reading package lists... Done\n",
            "Building dependency tree... Done\n",
            "Reading state information... Done\n",
            "50 packages can be upgraded. Run 'apt list --upgradable' to see them.\n",
            "\u001b[1;33mW: \u001b[0mSkipping acquire of configured file 'main/source/Sources' as repository 'https://r2u.stat.illinois.edu/ubuntu jammy InRelease' does not seem to provide it (sources.list entry misspelt?)\u001b[0m\n",
            "Reading package lists... Done\n",
            "Building dependency tree... Done\n",
            "Reading state information... Done\n",
            "curl is already the newest version (7.81.0-1ubuntu1.20).\n",
            "unzip is already the newest version (6.0-26ubuntu3.2).\n",
            "wget is already the newest version (1.21.2-2ubuntu1.1).\n",
            "The following packages were automatically installed and are no longer required:\n",
            "  apparmor libfuse3-3 liblzo2-2 snapd squashfs-tools systemd-hwe-hwdb udev\n",
            "Use 'sudo apt autoremove' to remove them.\n",
            "0 upgraded, 0 newly installed, 0 to remove and 50 not upgraded.\n",
            "--2024-12-18 06:38:21--  http://archive.ubuntu.com/ubuntu/pool/main/libu/libu2f-host/libu2f-udev_1.1.4-1_all.deb\n",
            "Resolving archive.ubuntu.com (archive.ubuntu.com)... 91.189.91.81, 185.125.190.83, 185.125.190.82, ...\n",
            "Connecting to archive.ubuntu.com (archive.ubuntu.com)|91.189.91.81|:80... connected.\n",
            "HTTP request sent, awaiting response... 200 OK\n",
            "Length: 3708 (3.6K) [application/vnd.debian.binary-package]\n",
            "Saving to: ‘libu2f-udev_1.1.4-1_all.deb’\n",
            "\n",
            "libu2f-udev_1.1.4-1 100%[===================>]   3.62K  --.-KB/s    in 0s      \n",
            "\n",
            "2024-12-18 06:38:21 (379 MB/s) - ‘libu2f-udev_1.1.4-1_all.deb’ saved [3708/3708]\n",
            "\n",
            "Selecting previously unselected package libu2f-udev.\n",
            "(Reading database ... 124257 files and directories currently installed.)\n",
            "Preparing to unpack libu2f-udev_1.1.4-1_all.deb ...\n",
            "Unpacking libu2f-udev (1.1.4-1) ...\n",
            "Setting up libu2f-udev (1.1.4-1) ...\n",
            "--2024-12-18 06:38:21--  https://dl.google.com/linux/direct/google-chrome-stable_current_amd64.deb\n",
            "Resolving dl.google.com (dl.google.com)... 108.177.11.190, 108.177.11.136, 108.177.11.91, ...\n",
            "Connecting to dl.google.com (dl.google.com)|108.177.11.190|:443... connected.\n",
            "HTTP request sent, awaiting response... 200 OK\n",
            "Length: 112421156 (107M) [application/x-debian-package]\n",
            "Saving to: ‘google-chrome-stable_current_amd64.deb.1’\n",
            "\n",
            "google-chrome-stabl 100%[===================>] 107.21M   213MB/s    in 0.5s    \n",
            "\n",
            "2024-12-18 06:38:21 (213 MB/s) - ‘google-chrome-stable_current_amd64.deb.1’ saved [112421156/112421156]\n",
            "\n",
            "Reading package lists... Done\n",
            "Building dependency tree... Done\n",
            "Reading state information... Done\n",
            "Note, selecting 'google-chrome-stable' instead of './google-chrome-stable_current_amd64.deb'\n",
            "google-chrome-stable is already the newest version (131.0.6778.139-1).\n",
            "The following packages were automatically installed and are no longer required:\n",
            "  apparmor libfuse3-3 liblzo2-2 snapd squashfs-tools systemd-hwe-hwdb udev\n",
            "Use 'sudo apt autoremove' to remove them.\n",
            "0 upgraded, 0 newly installed, 0 to remove and 51 not upgraded.\n",
            "--2024-12-18 06:38:24--  https://chromedriver.storage.googleapis.com/116.0.5845.96/chromedriver_linux64.zip\n",
            "Resolving chromedriver.storage.googleapis.com (chromedriver.storage.googleapis.com)... 74.125.139.207, 173.194.212.207, 173.194.210.207, ...\n",
            "Connecting to chromedriver.storage.googleapis.com (chromedriver.storage.googleapis.com)|74.125.139.207|:443... connected.\n",
            "HTTP request sent, awaiting response... 404 Not Found\n",
            "2024-12-18 06:38:24 ERROR 404: Not Found.\n",
            "\n",
            "unzip:  cannot find or open /tmp/chromedriver_linux64.zip, /tmp/chromedriver_linux64.zip.zip or /tmp/chromedriver_linux64.zip.ZIP.\n",
            "chmod: cannot access '/tmp/chromedriver': No such file or directory\n",
            "mv: cannot stat '/tmp/chromedriver': No such file or directory\n",
            "Requirement already satisfied: selenium in /usr/local/lib/python3.10/dist-packages (4.27.1)\n",
            "Requirement already satisfied: urllib3<3,>=1.26 in /usr/local/lib/python3.10/dist-packages (from urllib3[socks]<3,>=1.26->selenium) (2.2.3)\n",
            "Requirement already satisfied: trio~=0.17 in /usr/local/lib/python3.10/dist-packages (from selenium) (0.27.0)\n",
            "Requirement already satisfied: trio-websocket~=0.9 in /usr/local/lib/python3.10/dist-packages (from selenium) (0.11.1)\n",
            "Requirement already satisfied: certifi>=2021.10.8 in /usr/local/lib/python3.10/dist-packages (from selenium) (2024.8.30)\n",
            "Requirement already satisfied: typing_extensions~=4.9 in /usr/local/lib/python3.10/dist-packages (from selenium) (4.12.2)\n",
            "Requirement already satisfied: websocket-client~=1.8 in /usr/local/lib/python3.10/dist-packages (from selenium) (1.8.0)\n",
            "Requirement already satisfied: attrs>=23.2.0 in /usr/local/lib/python3.10/dist-packages (from trio~=0.17->selenium) (24.2.0)\n",
            "Requirement already satisfied: sortedcontainers in /usr/local/lib/python3.10/dist-packages (from trio~=0.17->selenium) (2.4.0)\n",
            "Requirement already satisfied: idna in /usr/local/lib/python3.10/dist-packages (from trio~=0.17->selenium) (3.10)\n",
            "Requirement already satisfied: outcome in /usr/local/lib/python3.10/dist-packages (from trio~=0.17->selenium) (1.3.0.post0)\n",
            "Requirement already satisfied: sniffio>=1.3.0 in /usr/local/lib/python3.10/dist-packages (from trio~=0.17->selenium) (1.3.1)\n",
            "Requirement already satisfied: exceptiongroup in /usr/local/lib/python3.10/dist-packages (from trio~=0.17->selenium) (1.2.2)\n",
            "Requirement already satisfied: wsproto>=0.14 in /usr/local/lib/python3.10/dist-packages (from trio-websocket~=0.9->selenium) (1.2.0)\n",
            "Requirement already satisfied: pysocks!=1.5.7,<2.0,>=1.5.6 in /usr/local/lib/python3.10/dist-packages (from urllib3[socks]<3,>=1.26->selenium) (1.7.1)\n",
            "Requirement already satisfied: h11<1,>=0.9.0 in /usr/local/lib/python3.10/dist-packages (from wsproto>=0.14->trio-websocket~=0.9->selenium) (0.14.0)\n"
          ]
        },
        {
          "output_type": "execute_result",
          "data": {
            "text/plain": []
          },
          "metadata": {},
          "execution_count": 14
        }
      ]
    },
    {
      "cell_type": "code",
      "source": [
        "from selenium import webdriver"
      ],
      "metadata": {
        "id": "o2NsCD3DfSdN"
      },
      "execution_count": null,
      "outputs": []
    },
    {
      "cell_type": "code",
      "source": [
        "options = webdriver.ChromeOptions()\n",
        "options.add_argument('--headless')\n",
        "options.add_argument('--no-sandbox')\n",
        "options.add_argument('--disable-dev-shm-usage')\n",
        "\n",
        "driver = webdriver.Chrome(options=options)"
      ],
      "metadata": {
        "id": "WUFRBd5ZfSMp"
      },
      "execution_count": null,
      "outputs": []
    },
    {
      "cell_type": "code",
      "source": [
        "from google.colab import drive\n",
        "drive.mount('/content/gdrive/')"
      ],
      "metadata": {
        "colab": {
          "base_uri": "https://localhost:8080/"
        },
        "id": "78uerXyQePPT",
        "outputId": "6216ab90-a5a2-4cb3-f59b-2f9671928cf6"
      },
      "execution_count": null,
      "outputs": [
        {
          "output_type": "stream",
          "name": "stdout",
          "text": [
            "Mounted at /content/gdrive/\n"
          ]
        }
      ]
    },
    {
      "cell_type": "code",
      "source": [
        "import pandas as pd\n",
        "from selenium import webdriver\n",
        "from bs4 import BeautifulSoup\n",
        "import time\n",
        "\n",
        "import warnings\n",
        "warnings.filterwarnings(\"ignore\")"
      ],
      "metadata": {
        "id": "KyGHXV3Jfcm5"
      },
      "execution_count": null,
      "outputs": []
    },
    {
      "cell_type": "code",
      "source": [
        "options = webdriver.ChromeOptions()\n",
        "options.add_argument('--headless')\n",
        "options.add_argument('--no-sandbox')\n",
        "options.add_argument('--disable-dev-shm-usage')\n",
        "\n",
        "# 크롬드라이버 경로\n",
        "driver = webdriver.Chrome(options=options)"
      ],
      "metadata": {
        "id": "doAbzEedfeoX"
      },
      "execution_count": null,
      "outputs": []
    },
    {
      "cell_type": "code",
      "source": [
        "# 앞서 찾아낸 url 넣기\n",
        "\n",
        "page_url = \"https://tickets.interpark.com/goods/24013928#\""
      ],
      "metadata": {
        "id": "4WOxsDFKf5_2"
      },
      "execution_count": null,
      "outputs": []
    },
    {
      "cell_type": "code",
      "source": [
        "driver.get(page_url)\n",
        "time.sleep(3) # 정확히 3초가 아니라 가끔은 3.6초, 5.91초 등 마다 이동하면 더 안정적인 스크래퍼가 된다"
      ],
      "metadata": {
        "id": "nXGVsX3Of9fG"
      },
      "execution_count": null,
      "outputs": []
    },
    {
      "cell_type": "code",
      "source": [
        "driver.save_screenshot('현재화면.jpg')"
      ],
      "metadata": {
        "id": "bYn15H4uf_6C",
        "outputId": "74bf45d7-ba26-4f66-cee2-40db850b9f92",
        "colab": {
          "base_uri": "https://localhost:8080/"
        }
      },
      "execution_count": null,
      "outputs": [
        {
          "output_type": "execute_result",
          "data": {
            "text/plain": [
              "True"
            ]
          },
          "metadata": {},
          "execution_count": 25
        }
      ]
    },
    {
      "cell_type": "code",
      "source": [
        "# 가상 웹 브라우저의 현재 화면을 구성하는 html 가져오기\n",
        "html=driver.page_source"
      ],
      "metadata": {
        "id": "Sbo6dvHdgBet"
      },
      "execution_count": null,
      "outputs": []
    },
    {
      "cell_type": "code",
      "source": [
        "soup=BeautifulSoup(html, 'lxml')"
      ],
      "metadata": {
        "id": "4TSd8x5ygC66"
      },
      "execution_count": null,
      "outputs": []
    },
    {
      "cell_type": "code",
      "source": [
        "# 게시물 정보가 보이지 않는다.\n",
        "soup"
      ],
      "metadata": {
        "id": "ObjbBTy6gDmS",
        "outputId": "6f038704-2dbe-453f-bbf8-8459b913d6c0",
        "colab": {
          "base_uri": "https://localhost:8080/"
        }
      },
      "execution_count": null,
      "outputs": [
        {
          "output_type": "execute_result",
          "data": {
            "text/plain": [
              "<html lang=\"ko\"><head><meta charset=\"utf-8\"/><meta content=\"IE=edge\" http-equiv=\"X-UA-Compatible\"/><link href=\"//openimage.interpark.com/UI/favicon/ticket_favicon.ico\" rel=\"shortcut icon\"/><link href=\"//m.interpark.com/img/common/icon/icon_ticket@2x.png\" rel=\"apple-touch-icon-precomposed\" sizes=\"114x114\"/><link href=\"//m.interpark.com/img/common/icon/icon_ticket72x72.png\" rel=\"apple-touch-icon-precomposed\" sizes=\"72x72\"/><link href=\"//m.interpark.com/img/common/icon/icon_ticket.png\" rel=\"apple-touch-icon-precomposed\"/><link href=\"//m.interpark.com/img/common/icon/icon_ticket.png\" rel=\"apple-touch-icon\"/><link as=\"style\" href=\"https://tickets.interpark.com/mf/static/css/header.min.css\" onload=\"this.rel='stylesheet'\" rel=\"stylesheet\" type=\"text/css\"/><noscript><link href=\"https://tickets.interpark.com/mf/static/css/header.min.css\" rel=\"stylesheet\" type=\"text/css\"/></noscript><title>인터파크 티켓</title><link href=\"/static/css/chunk.common.css?v=606edbc767bc67e8072e\" rel=\"stylesheet\" type=\"text/css\"/><script charset=\"utf-8\" src=\"/static/js/chunk.common.js?v=606edbc767bc67e8072e\"></script><link href=\"/static/css/chunk.swiper.css?v=606edbc767bc67e8072e\" rel=\"stylesheet\" type=\"text/css\"/><script charset=\"utf-8\" src=\"/static/js/chunk.swiper.js?v=606edbc767bc67e8072e\"></script><script charset=\"utf-8\" src=\"/static/js/chunk.defaultVendors~header.js?v=606edbc767bc67e8072e\"></script><link href=\"/static/css/chunk.header.css?v=606edbc767bc67e8072e\" rel=\"stylesheet\" type=\"text/css\"/><script charset=\"utf-8\" src=\"/static/js/chunk.header.js?v=606edbc767bc67e8072e\"></script><script charset=\"utf-8\" src=\"/static/js/chunk.0.js?v=606edbc767bc67e8072e\"></script><link href=\"/static/css/chunk.19.css?v=606edbc767bc67e8072e\" rel=\"stylesheet\" type=\"text/css\"/><script charset=\"utf-8\" src=\"/static/js/chunk.19.js?v=606edbc767bc67e8072e\"></script><script charset=\"utf-8\" src=\"/static/js/chunk.defaultVendors~goods_detail~search.js?v=606edbc767bc67e8072e\"></script><script charset=\"utf-8\" src=\"/static/js/chunk.defaultVendors~goods_detail.js?v=606edbc767bc67e8072e\"></script><script charset=\"utf-8\" src=\"/static/js/chunk.default~goods_detail~streaming.js?v=606edbc767bc67e8072e\"></script><link href=\"/static/css/chunk.goods_detail.css?v=606edbc767bc67e8072e\" rel=\"stylesheet\" type=\"text/css\"/><script charset=\"utf-8\" src=\"/static/js/chunk.goods_detail.js?v=606edbc767bc67e8072e\"></script><link href=\"/static/css/chunk.footer.css?v=606edbc767bc67e8072e\" rel=\"stylesheet\" type=\"text/css\"/><script charset=\"utf-8\" src=\"/static/js/chunk.footer.js?v=606edbc767bc67e8072e\"></script></head><body id=\"product\" style=\"pointer-events: none;\"><header id=\"ent-ticket__header\"><div class=\"header_accessibility__6acdc\" id=\"accessibility\"><ul><li><a href=\"#contents\">본문 바로가기</a></li></ul></div><div class=\"header_wrap__abfca desktop\"><div class=\"header_navi__b5313\"><div class=\"header_naviWrapper__6fe56\"><div class=\"Ticket_Ci_MO header_mobile__4e9a0\"><button class=\"header_moLogo__efd58\"><svg aria-label=\"Interpark Tickets\" fill=\"none\" height=\"30\" role=\"img\" viewbox=\"0 0 30 30\" width=\"30\" xmlns=\"http://www.w3.org/2000/svg\"><path d=\"M0 15C0 4.2 4.2 0 15 0s15 4.2 15 15-4.2 15-15 15S0 25.8 0 15\" fill=\"#8E43E7\"></path><path d=\"M19.595 23.059h-.274a.19.19 0 0 1-.186-.16c-.166-1.181-.804-2.64-2.26-4.128a.28.28 0 0 1-.04-.351c1.274-1.961 2.453-4.905 1.812-6.865a2.7 2.7 0 0 0-.8-1.23.134.134 0 0 1 .024-.222 2.71 2.71 0 0 0 1.44-2.592 2.73 2.73 0 0 0-2.534-2.505A2.72 2.72 0 0 0 13.87 7.71c0 .799.35 1.518.904 2.014a.134.134 0 0 1-.028.22 3 3 0 0 0-.359.222c-1.332.969-1.757 3.001-1.796 4.049a6.2 6.2 0 0 0 .099 1.377c.167.903.538 1.776 1.12 2.63q.265.389.586.734l1.08 1.175c1.095 1.217 1.683 2.414 1.769 3.511q.006.061.01.122a1.295 1.295 0 0 0 1.3 1.236h1.072a.973.973 0 0 0 .975-.99c-.01-.534-.47-.952-1.008-.952M16.594 6.94c.426 0 .773.345.773.77a.772.772 0 0 1-1.545 0c0-.425.345-.77.772-.77m-1.374 9.876c-.493-.826-.713-1.654-.68-2.526.036-.906.428-2.14.999-2.556.1-.072.226-.14.418-.14q.126-.002.296.045c.288.08.445.23.539.517.288.881-.19 2.845-1.244 4.656a.19.19 0 0 1-.328.004M13.062 19.744a.094.094 0 0 0-.127-.023c-1.586.994-2.764.417-3.27.255a1.295 1.295 0 0 0-1.59.718L7.58 21.83a.97.97 0 0 0 .508 1.276.977.977 0 0 0 1.282-.504l.213-.49a.19.19 0 0 1 .21-.11c1.041.205 2.561.462 4.367-.752a.094.094 0 0 0 .017-.141q-.255-.283-.508-.586a16 16 0 0 1-.607-.778z\" fill=\"#fff\"></path></svg><svg aria-label=\"Interpark Tickets\" fill=\"none\" height=\"18\" role=\"img\" viewbox=\"0 0 32 18\" width=\"32\" xmlns=\"http://www.w3.org/2000/svg\"><path d=\"M9.02 1.714H.429v11.652h1.447c3.052 0 5.474-.074 8.127-.464l-.223-1.91c-2.365.361-4.425.463-7.013.482V8.282h5.547V6.427H2.767V3.644H9.02zm2.282 15.493h2.393V.322h-2.393zM30.524.341H28.28v11.263h2.245zM15.81 9.655l1.114 1.67c2.616-1.122 4.295-2.607 5.288-4.434h2.579v3.228h2.227V.601H24.79v4.397h-1.828c.288-1.039.418-2.17.418-3.395H16.72v1.892h4.332a7 7 0 0 1-.269 1.336l-4.768.223.278 1.91 3.674-.398c-.826 1.215-2.152 2.236-4.156 3.09m2.097 5.64.965 1.838c2.71-.408 4.694-1.605 5.752-3.22 1.058 1.615 3.043 2.812 5.77 3.22l.891-1.837c-3.627-.482-5.501-2.412-5.492-4.268v-.352h-2.338v.352c-.01 1.856-1.883 3.785-5.548 4.268\" fill=\"#111\"></path></svg></button></div><div class=\"Ticket_Ci_PC header_desktop__9c75d\"><div class=\"header_bi__42395\"><a href=\"https://tickets.interpark.com\"><svg aria-label=\"Interpark Tickets\" fill=\"none\" height=\"38\" role=\"img\" viewbox=\"0 0 196 38\" width=\"196\" xmlns=\"http://www.w3.org/2000/svg\"><path d=\"M167.847 12.03h-10.713v14.469h1.808c3.687 0 6.725-.093 9.971-.557l-.278-2.597c-2.829.394-5.31.534-8.301.557V20.33h6.585V17.78h-6.585v-3.107h7.513zm2.458 19.106h3.292V10.36h-3.292zM194.148 10.36h-3.107v13.774h3.107zm-18.319 11.27 1.531 2.272c3.177-1.368 5.217-3.13 6.423-5.334h2.898v3.757h3.061v-11.64h-3.061v5.286h-1.901c.325-1.252.464-2.62.464-4.08h-8.209v2.596h5.009c-.07.464-.139.928-.278 1.368l-5.566.21.371 2.596 4.035-.417c-.997 1.298-2.527 2.411-4.777 3.385m2.644 6.863 1.345 2.55c3.362-.486 5.681-1.9 6.979-3.779 1.276 1.878 3.595 3.293 6.98 3.78l1.252-2.551c-4.753-.58-6.655-2.991-6.632-5.101v-.372h-3.2v.372c-.023 2.11-1.924 4.521-6.724 5.1M22.126 34.31h-.5a.35.35 0 0 1-.342-.303c-.303-2.245-1.47-5.014-4.134-7.841a.55.55 0 0 1-.07-.666c2.331-3.726 4.488-9.318 3.315-13.044-.3-.957-.796-1.743-1.465-2.335a.262.262 0 0 1 .045-.423c1.673-.92 2.78-2.799 2.634-4.925C21.43 2.233 19.428.179 16.97.011c-2.897-.196-5.315 2.185-5.315 5.138 0 1.52.638 2.886 1.653 3.827a.26.26 0 0 1-.05.42 5.5 5.5 0 0 0-.657.42c-2.438 1.842-3.215 5.703-3.288 7.693q-.05 1.333.182 2.617c.305 1.716.984 3.375 2.05 4.999.322.49.682.957 1.07 1.393l1.978 2.232c2.002 2.315 3.078 4.587 3.233 6.672q.012.115.017.23C17.9 36.97 18.944 38 20.22 38h1.963c.997 0 1.802-.843 1.785-1.88a1.85 1.85 0 0 0-1.844-1.81zM16.638 3.689c.779 0 1.414.655 1.414 1.461 0 .807-.634 1.462-1.414 1.462s-1.413-.655-1.413-1.462.632-1.461 1.413-1.461M14.124 22.45c-.902-1.57-1.304-3.143-1.244-4.8.064-1.72.782-4.065 1.826-4.854.184-.138.415-.268.765-.268.155 0 .332.026.54.084.529.152.815.437.986.984.528 1.674-.349 5.406-2.274 8.845a.342.342 0 0 1-.6.01zM10.176 28.01a.17.17 0 0 0-.232-.044c-2.903 1.888-5.057.791-5.981.485-1.17-.391-2.423.194-2.911 1.363l-.905 2.158c-.391.935.025 2.02.93 2.425.904.405 1.954-.025 2.346-.959l.39-.93a.34.34 0 0 1 .384-.209c1.904.391 4.685.88 7.99-1.428a.18.18 0 0 0 .03-.267 32 32 0 0 1-2.04-2.592z\" fill=\"#8E43E7\"></path><g clip-path=\"url(#a)\" fill=\"#000\"><path d=\"M32.245 12.084q-.631-.621-.632-1.55 0-.929.632-1.55.63-.624 1.586-.624.953 0 1.586.623.63.622.631 1.551 0 .93-.631 1.551-.631.624-1.586.623-.954 0-1.586-.623zm3.364 2.372V29.14h-3.608V14.456zM51.206 15.902q1.573 1.656 1.573 4.625v8.615H49.17v-8.11q.001-1.75-.85-2.692-.85-.94-2.32-.942c-.98 0-1.784.314-2.358.942q-.865.941-.865 2.691v8.111h-3.609V14.456h3.609v1.829a5 5 0 0 1 1.843-1.498 5.6 5.6 0 0 1 2.461-.544q2.553 0 4.125 1.657zM60.41 17.505v7.103q0 .743.35 1.074.346.331 1.172.332h1.676v3.127h-2.269q-4.562 0-4.563-4.56v-7.076h-1.702v-3.048h1.702v-3.632h3.634v3.63h3.198v3.048h-3.197zM79.384 22.913h-10.44q.128 1.59 1.082 2.49.956.901 2.346.903 2.01 0 2.862-1.776h3.893a6.7 6.7 0 0 1-2.371 3.485Q75 29.38 72.449 29.38q-2.061 0-3.7-.942-1.637-.94-2.552-2.664-.916-1.724-.916-3.977c0-1.502.301-2.853.904-4.002q.903-1.725 2.525-2.65 1.625-.928 3.74-.928c1.41 0 2.573.3 3.647.902a6.26 6.26 0 0 1 2.5 2.557q.89 1.656.89 3.803 0 .795-.103 1.43zm-3.634-2.491q-.026-1.431-1.006-2.293-.98-.86-2.397-.86-1.342.001-2.256.833-.916.835-1.122 2.32zM87.545 14.908q1.12-.663 2.567-.663v3.897h-.955q-1.702 0-2.564.82-.865.822-.865 2.864v7.314H82.12V14.457h3.61v2.28a5.15 5.15 0 0 1 1.816-1.83M98.063 14.894q1.226-.676 2.798-.676 1.829 0 3.313.929 1.48.929 2.346 2.636.864 1.71.864 3.963t-.864 3.99q-.865 1.734-2.346 2.69-1.483.954-3.313.955-1.573 0-2.772-.662-1.199-.663-1.946-1.67v9.09h-3.609V14.456h3.61v2.121q.694-1.007 1.92-1.683m5.105 4.56q-.53-.97-1.391-1.47a3.65 3.65 0 0 0-1.87-.505c-.67 0-1.267.172-1.842.517q-.864.518-1.391 1.499-.53.981-.529 2.306 0 1.326.529 2.306.528.98 1.391 1.498.864.518 1.843.517a3.56 3.56 0 0 0 1.869-.53q.863-.53 1.391-1.512.529-.979.529-2.332c0-.902-.177-1.648-.529-2.293zM109.948 17.796q.865-1.723 2.346-2.65 1.483-.928 3.313-.928 1.597 0 2.798.663 1.198.662 1.92 1.67v-2.095h3.634V29.14h-3.634v-2.148q-.698 1.034-1.92 1.71-1.226.676-2.823.676a5.96 5.96 0 0 1-3.288-.955q-1.484-.954-2.346-2.691-.864-1.736-.864-3.99c0-1.502.288-2.8.864-3.95zm9.861 1.684a3.7 3.7 0 0 0-1.391-1.486 3.64 3.64 0 0 0-1.882-.517 3.6 3.6 0 0 0-1.856.504q-.852.505-1.378 1.47-.53.969-.529 2.293 0 1.325.529 2.32.529.993 1.391 1.524.865.53 1.843.53c.654 0 1.298-.171 1.882-.517a3.7 3.7 0 0 0 1.391-1.485q.515-.967.516-2.319 0-1.352-.516-2.32zM132.596 14.908q1.121-.663 2.566-.663v3.897h-.954q-1.702 0-2.565.82-.864.822-.864 2.864v7.314h-3.609V14.457h3.609v2.28a5.14 5.14 0 0 1 1.817-1.83M146.361 29.14l-4.846-6.256v6.256h-3.608V9.527h3.608v11.159l4.795-6.23h4.692l-6.291 7.37 6.342 7.314z\"></path></g><defs><clippath id=\"a\"><path d=\"M31.614 8.36h119.44v27.777H31.613z\" fill=\"#fff\"></path></clippath></defs></svg></a><button class=\"header_arrowImg__9aa2b\"><svg aria-label=\"Show Menu\" fill=\"none\" height=\"24\" role=\"img\" viewbox=\"0 0 24 24\" width=\"24\" xmlns=\"http://www.w3.org/2000/svg\"><circle cx=\"12\" cy=\"12\" fill=\"#fff\" r=\"12\"></circle><circle cx=\"12\" cy=\"12\" r=\"11.5\" stroke=\"#000\" stroke-opacity=\"0.15\"></circle><path d=\"m8.247 11.424 3.352 3.334a.833.833 0 0 0 1.175 0l3.312-3.295c.526-.522.159-1.42-.582-1.424L8.84 10c-.746-.004-1.121.898-.593 1.424\" fill=\"#333\"></path></svg></button></div></div><div class=\"search_wrap__370af\"><div class=\"Ticket_SrcBar search_searchInput__e52e4\"><input gtm-label=\"검색창\" placeholder=\"내주변, 지하철역으로 찾아보세요.\" type=\"text\" value=\"\"/><a aria-label=\"검색아이콘\" class=\"search-button search_searchBtn__297be\" data-link-title=\"내주변, 지하철역으로 찾아보세요.\" gtm-label=\"검색아이콘\" role=\"button\" tabindex=\"0\"><svg fill=\"none\" height=\"20\" viewbox=\"0 0 20 20\" width=\"20\" xmlns=\"http://www.w3.org/2000/svg\"><path d=\"m17.875 17.877-4.607-4.607c-.462-.462-1.198-.56-1.729-.197-1.345.943-3.084 1.356-4.92.943-2.26-.5-4.087-2.328-4.588-4.587A6.157 6.157 0 0 1 8.23 1.876c3.045.098 5.638 2.534 5.923 5.56.079.844-.02 1.66-.245 2.416l-.295.726\" stroke=\"#3A3A3A\" stroke-linecap=\"round\" stroke-miterlimit=\"10\" stroke-width=\"1.6\"></path></svg></a></div></div><div class=\"Ticket_Account header_userMenu__c408a\"><a class=\"header_menu__720a4\" href=\"https://accounts.interpark.com/authorize/ticket-pc?postProc=FULLSCREEN&amp;origin=https%3A%2F%2Fticket.interpark.com%2FGate%2FTPLoginConfirmGate.asp%3FGroupCode%3D%26Tiki%3D%26Point%3D%26PlayDate%3D%26PlaySeq%3D%26HeartYN%3D%26TikiAutoPop%3D%26BookingBizCode%3D%26MemBizCD%3DWEBBR%26CPage%3D%26GPage%3Dhttps%253A%252F%252Ftickets.interpark.com%252Fgoods%252F24013928%2523&amp;version=v2\" title=\"로그인\">로그인</a><a class=\"header_menu__720a4\" href=\"https://member.interpark.com/signup?join_site_tp=50&amp;join_ipp_id=\" title=\"회원가입\">회원가입</a><a class=\"header_menu__720a4\" href=\"https://accounts.interpark.com/authorize/ticket-pc?postProc=FULLSCREEN&amp;origin=https%3A%2F%2Fticket.interpark.com%2FGate%2FTPLoginConfirmGate.asp%3FGroupCode%3D%26Tiki%3D%26Point%3D%26PlayDate%3D%26PlaySeq%3D%26HeartYN%3D%26TikiAutoPop%3D%26BookingBizCode%3D%26MemBizCD%3DWEBBR%26CPage%3D%26GPage%3Dhttps%253A%252F%252Fticket.interpark.com%252FPoint%252FMyTicket%252FMyTicketMain.asp%253F%2526tid1%253Dmain_gnb%2526tid2%253Dright_top%2526tid3%253Dmyticket%2526tid4%253Dmyticket&amp;version=v2\" title=\"마이페이지\">마이페이지</a><div class=\"LanguageSelect_languageSelect__eac33\"><button class=\"LanguageSelect_selected__e9654\"><img alt=\"Korean\" data-nimg=\"1\" decoding=\"async\" height=\"24\" loading=\"lazy\" src=\"https://tickets.interpark.com/mf/images/icon/img_korean.svg\" style=\"color: transparent;\" width=\"24\"/></button></div></div></div></div></div></header><div id=\"container\"><div class=\"leftWingWrapper\"><ul></ul></div><div class=\"contents\" style=\"\"></div></div><noscript><iframe height=\"0\" src=\"https://www.googletagmanager.com/ns.html?id=GTM-5QCJFLB\" style=\"display: none; visibility: hidden;\" width=\"0\"></iframe></noscript><script type=\"text/javascript\">var ua = window.navigator.userAgent;\n",
              "      if (!(ua.indexOf('MSIE ') > -1)) {\n",
              "        var egsSrc = '//es-script.interpark.com/get';\n",
              "        var scriptEl = document.createElement('script');\n",
              "        scriptEl.setAttribute('src', egsSrc);\n",
              "        scriptEl.setAttribute('type', 'text/javascript');\n",
              "        scriptEl.onload = function () {\n",
              "          console.log('EGS Script loaded...');\n",
              "        };\n",
              "        document.body.appendChild(scriptEl);\n",
              "      }</script><script src=\"//es-script.interpark.com/get\" type=\"text/javascript\"></script><script language=\"javascript\" src=\"//accounts.interpark.com/resources/js/interpark.accounts.js\"></script><script src=\"/static/js/manifest.js?v=606edbc767bc67e8072e\" type=\"text/javascript\"></script><script src=\"/static/js/chunk.app.js?v=606edbc767bc67e8072e\" type=\"text/javascript\"></script><script src=\"//es-script.interpark.com/code?u=https%3A%2F%2Ftickets.interpark.com%2Fgoods%2F24013928%23\" type=\"text/javascript\"></script><script footer=\"true\" footer-id=\"intFooter\" header=\"true\" id=\"entTicketHeader\" layout=\"desktop\" src=\"https://tickets.interpark.com/mf/static/legacy/app.js?v=1734504079854\"></script><iframe height=\"0\" name=\"egs2frame\" style=\"display: none; visibility: hidden;\" title=\"EGS Data Collection Frame\" width=\"0\"></iframe></body></html>"
            ]
          },
          "metadata": {},
          "execution_count": 28
        }
      ]
    }
  ]
}